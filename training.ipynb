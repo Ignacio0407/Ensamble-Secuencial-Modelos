{
 "cells": [
  {
   "cell_type": "code",
   "execution_count": 8,
   "id": "28089998",
   "metadata": {},
   "outputs": [],
   "source": [
    "from sklearn.tree import DecisionTreeRegressor  \n",
    "from scikeras.wrappers import KerasRegressor\n",
    "from keras.models import Sequential  \n",
    "from keras.layers import Dense\n",
    "import numpy as np\n",
    "import pandas as pd\n",
    "from sklearn.preprocessing import StandardScaler"
   ]
  },
  {
   "cell_type": "code",
   "execution_count": 2,
   "id": "73dee9c6",
   "metadata": {},
   "outputs": [],
   "source": [
    "arbol = DecisionTreeRegressor(max_depth=3)  # Evitar sobreajuste con árboles pequeños "
   ]
  },
  {
   "cell_type": "code",
   "execution_count": null,
   "id": "32370b2b",
   "metadata": {},
   "outputs": [],
   "source": [
    "def crear_red(input_shape):  \n",
    "    model = Sequential([  \n",
    "        Dense(16, activation='relu', input_shape=(input_shape,)),  \n",
    "        Dense(1)  # Salida lineal para regresión  \n",
    "    ])  \n",
    "    model.compile(optimizer='adam', loss='mse')  \n",
    "    return model  \n",
    "\n",
    "# Envolver la red en un estimador Scikit-learn  \n",
    "red_neuronal = KerasRegressor(  \n",
    "    build_fn=lambda: crear_red(X_train.shape[1]),  \n",
    "    epochs=50,  \n",
    "    batch_size=32,  \n",
    "    verbose=0  \n",
    ")  "
   ]
  },
  {
   "cell_type": "code",
   "execution_count": null,
   "id": "ed30bb56",
   "metadata": {},
   "outputs": [],
   "source": [
    "class EnsembleSecuencial:  \n",
    "    def __init__(self, estimadores, n_estimators=100, lr=0.1, sample_size=0.75):  \n",
    "        self.estimadores = estimadores  # Lista de modelos base (ej: [arbol, red_neuronal])  \n",
    "        self.n_estimators = n_estimators  \n",
    "        self.lr = lr  \n",
    "        self.sample_size = sample_size  \n",
    "        self.modelos = []  \n",
    "\n",
    "    def fit(self, X, y):  \n",
    "        pred_actual = np.mean(y) * np.ones_like(y)  # Predicción inicial  \n",
    "        for _ in range(self.n_estimators):  \n",
    "            # 1. Calcular residuos  \n",
    "            residuos = y - pred_actual  \n",
    "            # 2. Muestreo aleatorio  \n",
    "            idx = np.random.choice(len(X), int(len(X) * self.sample_size), replace=False)  \n",
    "            X_muestra, residuo_muestra = X[idx], residuos[idx]  \n",
    "            # 3. Entrenar modelo base (alternando entre árbol y red neuronal)  \n",
    "            modelo = clone(self.estimadores[i % len(self.estimadores)])  # Alterna modelos  \n",
    "            modelo.fit(X_muestra, residuo_muestra)  \n",
    "            # 4. Actualizar predicciones  \n",
    "            pred_actual += self.lr * modelo.predict(X)  \n",
    "            # 5. Guardar modelo  \n",
    "            self.modelos.append(modelo)  \n",
    "\n",
    "    def predict(self, X):  \n",
    "        pred = np.zeros(len(X))  \n",
    "        for modelo in self.modelos:  \n",
    "            pred += self.lr * modelo.predict(X)  \n",
    "        return pred  "
   ]
  },
  {
   "cell_type": "code",
   "execution_count": 9,
   "id": "b198a5e7",
   "metadata": {},
   "outputs": [
    {
     "ename": "NameError",
     "evalue": "name 'X' is not defined",
     "output_type": "error",
     "traceback": [
      "\u001b[31m---------------------------------------------------------------------------\u001b[39m",
      "\u001b[31mNameError\u001b[39m                                 Traceback (most recent call last)",
      "\u001b[36mCell\u001b[39m\u001b[36m \u001b[39m\u001b[32mIn[9]\u001b[39m\u001b[32m, line 2\u001b[39m\n\u001b[32m      1\u001b[39m scaler = StandardScaler()  \n\u001b[32m----> \u001b[39m\u001b[32m2\u001b[39m X_scaled = scaler.fit_transform(\u001b[43mX\u001b[49m)\n",
      "\u001b[31mNameError\u001b[39m: name 'X' is not defined"
     ]
    }
   ],
   "source": [
    "scaler = StandardScaler()  \n",
    "X_scaled = scaler.fit_transform(X)"
   ]
  },
  {
   "cell_type": "code",
   "execution_count": null,
   "id": "53e2f238",
   "metadata": {},
   "outputs": [],
   "source": [
    "# Inicializar el ensamble con árbol y red neuronal  \n",
    "meta_modelo = EnsembleSecuencial(  \n",
    "    estimadores=[DecisionTreeRegressor(), red_neuronal],  \n",
    "    n_estimators=100,  \n",
    "    lr=0.1  \n",
    ")  \n",
    "\n",
    "# Entrenar y evaluar  \n",
    "meta_modelo.fit(X_train, y_train)  \n",
    "predicciones = meta_modelo.predict(X_test)  \n",
    "\n",
    "# Métricas  \n",
    "from sklearn.metrics import r2_score  \n",
    "print(\"R2:\", r2_score(y_test, predicciones))  "
   ]
  }
 ],
 "metadata": {
  "kernelspec": {
   "display_name": "Python 3",
   "language": "python",
   "name": "python3"
  },
  "language_info": {
   "codemirror_mode": {
    "name": "ipython",
    "version": 3
   },
   "file_extension": ".py",
   "mimetype": "text/x-python",
   "name": "python",
   "nbconvert_exporter": "python",
   "pygments_lexer": "ipython3",
   "version": "3.12.10"
  }
 },
 "nbformat": 4,
 "nbformat_minor": 5
}
